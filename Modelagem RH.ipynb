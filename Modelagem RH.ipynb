{
 "cells": [
  {
   "cell_type": "code",
   "execution_count": 2,
   "id": "ce567953",
   "metadata": {},
   "outputs": [],
   "source": [
    "#importa módulo e documento"
   ]
  },
  {
   "cell_type": "code",
   "execution_count": 3,
   "id": "eac6179a",
   "metadata": {},
   "outputs": [],
   "source": [
    "import pandas as pd"
   ]
  },
  {
   "cell_type": "code",
   "execution_count": 4,
   "id": "26697f2c",
   "metadata": {},
   "outputs": [],
   "source": [
    "base = pd.read_csv(r\"C:\\Users\\kaio_\\OneDrive\\Documentos\\estudos\\Impacta\\Machine Learning\\machine learning\\Projeto - Modelagem RH\\modelagem_rh.csv\")"
   ]
  },
  {
   "cell_type": "code",
   "execution_count": 5,
   "id": "450b5777",
   "metadata": {},
   "outputs": [],
   "source": [
    "#Faz a contagem do atributo"
   ]
  },
  {
   "cell_type": "code",
   "execution_count": 6,
   "id": "962d4a8a",
   "metadata": {},
   "outputs": [
    {
     "data": {
      "text/plain": [
       "0    11428\n",
       "1     3571\n",
       "Name: saiu, dtype: int64"
      ]
     },
     "execution_count": 6,
     "metadata": {},
     "output_type": "execute_result"
    }
   ],
   "source": [
    "base.saiu.value_counts()"
   ]
  },
  {
   "cell_type": "code",
   "execution_count": 14,
   "id": "dcba15f1",
   "metadata": {},
   "outputs": [],
   "source": [
    "#Executa a porcentagem da proporção"
   ]
  },
  {
   "cell_type": "code",
   "execution_count": 15,
   "id": "cc851986",
   "metadata": {},
   "outputs": [
    {
     "data": {
      "text/plain": [
       "0    76.191746\n",
       "1    23.808254\n",
       "Name: saiu, dtype: float64"
      ]
     },
     "execution_count": 15,
     "metadata": {},
     "output_type": "execute_result"
    }
   ],
   "source": [
    "base.saiu.value_counts()/len(base)*100"
   ]
  },
  {
   "cell_type": "code",
   "execution_count": 16,
   "id": "85650fbe",
   "metadata": {},
   "outputs": [],
   "source": [
    "#Vizualisar em formato de gráfico"
   ]
  },
  {
   "cell_type": "code",
   "execution_count": 17,
   "id": "a651d368",
   "metadata": {},
   "outputs": [
    {
     "name": "stdout",
     "output_type": "stream",
     "text": [
      "Requirement already satisfied: matplotlib in c:\\users\\kaio_\\appdata\\local\\programs\\python\\python310\\lib\\site-packages (3.7.1)\n",
      "Requirement already satisfied: packaging>=20.0 in c:\\users\\kaio_\\appdata\\local\\programs\\python\\python310\\lib\\site-packages (from matplotlib) (21.3)\n",
      "Requirement already satisfied: python-dateutil>=2.7 in c:\\users\\kaio_\\appdata\\roaming\\python\\python310\\site-packages (from matplotlib) (2.8.2)\n",
      "Requirement already satisfied: numpy>=1.20 in c:\\users\\kaio_\\appdata\\local\\programs\\python\\python310\\lib\\site-packages (from matplotlib) (1.24.2)\n",
      "Requirement already satisfied: cycler>=0.10 in c:\\users\\kaio_\\appdata\\local\\programs\\python\\python310\\lib\\site-packages (from matplotlib) (0.11.0)\n",
      "Requirement already satisfied: pyparsing>=2.3.1 in c:\\users\\kaio_\\appdata\\local\\programs\\python\\python310\\lib\\site-packages (from matplotlib) (3.0.9)\n",
      "Requirement already satisfied: contourpy>=1.0.1 in c:\\users\\kaio_\\appdata\\local\\programs\\python\\python310\\lib\\site-packages (from matplotlib) (1.0.7)\n",
      "Requirement already satisfied: kiwisolver>=1.0.1 in c:\\users\\kaio_\\appdata\\local\\programs\\python\\python310\\lib\\site-packages (from matplotlib) (1.4.4)\n",
      "Requirement already satisfied: pillow>=6.2.0 in c:\\users\\kaio_\\appdata\\local\\programs\\python\\python310\\lib\\site-packages (from matplotlib) (9.4.0)\n",
      "Requirement already satisfied: fonttools>=4.22.0 in c:\\users\\kaio_\\appdata\\local\\programs\\python\\python310\\lib\\site-packages (from matplotlib) (4.39.0)\n",
      "Requirement already satisfied: six>=1.5 in c:\\users\\kaio_\\appdata\\roaming\\python\\python310\\site-packages (from python-dateutil>=2.7->matplotlib) (1.16.0)\n"
     ]
    },
    {
     "name": "stderr",
     "output_type": "stream",
     "text": [
      "\n",
      "[notice] A new release of pip available: 22.2.2 -> 23.0.1\n",
      "[notice] To update, run: python.exe -m pip install --upgrade pip\n"
     ]
    }
   ],
   "source": [
    "!pip install matplotlib"
   ]
  },
  {
   "cell_type": "code",
   "execution_count": 18,
   "id": "c366b48b",
   "metadata": {},
   "outputs": [],
   "source": [
    "import matplotlib.pyplot as plt"
   ]
  },
  {
   "cell_type": "code",
   "execution_count": 19,
   "id": "8f875f7e",
   "metadata": {},
   "outputs": [],
   "source": [
    "#Para que ele exiba o gráfico no meu notebook"
   ]
  },
  {
   "cell_type": "code",
   "execution_count": 20,
   "id": "42e46530",
   "metadata": {},
   "outputs": [],
   "source": [
    "%matplotlib inline"
   ]
  },
  {
   "cell_type": "code",
   "execution_count": 21,
   "id": "4af11b1e",
   "metadata": {},
   "outputs": [],
   "source": [
    "#Exibir gráfico"
   ]
  },
  {
   "cell_type": "code",
   "execution_count": 22,
   "id": "bd290834",
   "metadata": {},
   "outputs": [
    {
     "data": {
      "text/plain": [
       "<Axes: >"
      ]
     },
     "execution_count": 22,
     "metadata": {},
     "output_type": "execute_result"
    },
    {
     "data": {
      "image/png": "[encoded data removed]",
      "text/plain": [
       "<Figure size 640x480 with 1 Axes>"
      ]
     },
     "metadata": {},
     "output_type": "display_data"
    }
   ],
   "source": [
    "base.saiu.value_counts().plot(kind=\"bar\")"
   ]
  },
  {
   "cell_type": "code",
   "execution_count": 23,
   "id": "ed3155c2",
   "metadata": {},
   "outputs": [],
   "source": [
    "#Editar base do grgráfico "
   ]
  },
  {
   "cell_type": "code",
   "execution_count": 24,
   "id": "8c168d31",
   "metadata": {},
   "outputs": [
    {
     "data": {
      "text/plain": [
       "([<matplotlib.axis.XTick at 0x237da431270>,\n",
       "  <matplotlib.axis.XTick at 0x237da431240>],\n",
       " [Text(0, 0, 'não saiu'), Text(1, 0, 'saiu')])"
      ]
     },
     "execution_count": 24,
     "metadata": {},
     "output_type": "execute_result"
    },
    {
     "data": {
      "image/png": "[encoded data removed]",
      "text/plain": [
       "<Figure size 640x480 with 1 Axes>"
      ]
     },
     "metadata": {},
     "output_type": "display_data"
    }
   ],
   "source": [
    "base.saiu.value_counts().plot(kind=\"bar\")\n",
    "plt.xticks((0,1),[\"não saiu\",\"saiu\"])"
   ]
  },
  {
   "cell_type": "code",
   "execution_count": 25,
   "id": "a6c552bb",
   "metadata": {},
   "outputs": [],
   "source": [
    "#CROSSTAB - Exibe a frequência de um objeto"
   ]
  },
  {
   "cell_type": "code",
   "execution_count": 26,
   "id": "6ea39918",
   "metadata": {},
   "outputs": [
    {
     "data": {
      "text/html": [
       "<div>\n",
       "<style scoped>\n",
       "    .dataframe tbody tr th:only-of-type {\n",
       "        vertical-align: middle;\n",
       "    }\n",
       "\n",
       "    .dataframe tbody tr th {\n",
       "        vertical-align: top;\n",
       "    }\n",
       "\n",
       "    .dataframe thead th {\n",
       "        text-align: right;\n",
       "    }\n",
       "</style>\n",
       "<table border=\"1\" class=\"dataframe\">\n",
       "  <thead>\n",
       "    <tr style=\"text-align: right;\">\n",
       "      <th>saiu</th>\n",
       "      <th>0</th>\n",
       "      <th>1</th>\n",
       "    </tr>\n",
       "    <tr>\n",
       "      <th>departamento</th>\n",
       "      <th></th>\n",
       "      <th></th>\n",
       "    </tr>\n",
       "  </thead>\n",
       "  <tbody>\n",
       "    <tr>\n",
       "      <th>IT</th>\n",
       "      <td>954</td>\n",
       "      <td>273</td>\n",
       "    </tr>\n",
       "    <tr>\n",
       "      <th>RandD</th>\n",
       "      <td>666</td>\n",
       "      <td>121</td>\n",
       "    </tr>\n",
       "    <tr>\n",
       "      <th>accounting</th>\n",
       "      <td>563</td>\n",
       "      <td>204</td>\n",
       "    </tr>\n",
       "    <tr>\n",
       "      <th>hr</th>\n",
       "      <td>524</td>\n",
       "      <td>215</td>\n",
       "    </tr>\n",
       "    <tr>\n",
       "      <th>management</th>\n",
       "      <td>539</td>\n",
       "      <td>91</td>\n",
       "    </tr>\n",
       "    <tr>\n",
       "      <th>marketing</th>\n",
       "      <td>655</td>\n",
       "      <td>203</td>\n",
       "    </tr>\n",
       "    <tr>\n",
       "      <th>product_mng</th>\n",
       "      <td>704</td>\n",
       "      <td>198</td>\n",
       "    </tr>\n",
       "    <tr>\n",
       "      <th>sales</th>\n",
       "      <td>3126</td>\n",
       "      <td>1014</td>\n",
       "    </tr>\n",
       "    <tr>\n",
       "      <th>support</th>\n",
       "      <td>1674</td>\n",
       "      <td>555</td>\n",
       "    </tr>\n",
       "    <tr>\n",
       "      <th>technical</th>\n",
       "      <td>2023</td>\n",
       "      <td>697</td>\n",
       "    </tr>\n",
       "  </tbody>\n",
       "</table>\n",
       "</div>"
      ],
      "text/plain": [
       "saiu             0     1\n",
       "departamento            \n",
       "IT             954   273\n",
       "RandD          666   121\n",
       "accounting     563   204\n",
       "hr             524   215\n",
       "management     539    91\n",
       "marketing      655   203\n",
       "product_mng    704   198\n",
       "sales         3126  1014\n",
       "support       1674   555\n",
       "technical     2023   697"
      ]
     },
     "execution_count": 26,
     "metadata": {},
     "output_type": "execute_result"
    }
   ],
   "source": [
    "pd.crosstab(base.departamento, base.saiu)"
   ]
  },
  {
   "cell_type": "code",
   "execution_count": 27,
   "id": "59b74e88",
   "metadata": {},
   "outputs": [],
   "source": [
    "#Cria a váriavel base"
   ]
  },
  {
   "cell_type": "code",
   "execution_count": 28,
   "id": "4ef9d9fe",
   "metadata": {},
   "outputs": [],
   "source": [
    "valores = pd.crosstab(base.departamento, base.saiu)"
   ]
  },
  {
   "cell_type": "code",
   "execution_count": 29,
   "id": "15cb3edf",
   "metadata": {},
   "outputs": [],
   "source": [
    "#Somar conteudo extraido do departamento"
   ]
  },
  {
   "cell_type": "code",
   "execution_count": 30,
   "id": "711140ce",
   "metadata": {},
   "outputs": [
    {
     "data": {
      "text/plain": [
       "departamento\n",
       "IT             1227\n",
       "RandD           787\n",
       "accounting      767\n",
       "hr              739\n",
       "management      630\n",
       "marketing       858\n",
       "product_mng     902\n",
       "sales          4140\n",
       "support        2229\n",
       "technical      2720\n",
       "dtype: int64"
      ]
     },
     "execution_count": 30,
     "metadata": {},
     "output_type": "execute_result"
    }
   ],
   "source": [
    "soma = valores.sum(axis=1)\n",
    "soma"
   ]
  },
  {
   "cell_type": "code",
   "execution_count": 31,
   "id": "c1d687c1",
   "metadata": {},
   "outputs": [],
   "source": [
    "#Proporção em porcentagem"
   ]
  },
  {
   "cell_type": "raw",
   "id": "333f2afe",
   "metadata": {},
   "source": [
    "valores.divide(soma, axis=0)*100"
   ]
  },
  {
   "cell_type": "code",
   "execution_count": 32,
   "id": "1f0f1d00",
   "metadata": {},
   "outputs": [],
   "source": [
    "#Proporção Salários "
   ]
  },
  {
   "cell_type": "code",
   "execution_count": 33,
   "id": "271d4508",
   "metadata": {},
   "outputs": [
    {
     "data": {
      "text/html": [
       "<div>\n",
       "<style scoped>\n",
       "    .dataframe tbody tr th:only-of-type {\n",
       "        vertical-align: middle;\n",
       "    }\n",
       "\n",
       "    .dataframe tbody tr th {\n",
       "        vertical-align: top;\n",
       "    }\n",
       "\n",
       "    .dataframe thead th {\n",
       "        text-align: right;\n",
       "    }\n",
       "</style>\n",
       "<table border=\"1\" class=\"dataframe\">\n",
       "  <thead>\n",
       "    <tr style=\"text-align: right;\">\n",
       "      <th>saiu</th>\n",
       "      <th>0</th>\n",
       "      <th>1</th>\n",
       "    </tr>\n",
       "    <tr>\n",
       "      <th>salario</th>\n",
       "      <th></th>\n",
       "      <th></th>\n",
       "    </tr>\n",
       "  </thead>\n",
       "  <tbody>\n",
       "    <tr>\n",
       "      <th>high</th>\n",
       "      <td>1155</td>\n",
       "      <td>82</td>\n",
       "    </tr>\n",
       "    <tr>\n",
       "      <th>low</th>\n",
       "      <td>5144</td>\n",
       "      <td>2172</td>\n",
       "    </tr>\n",
       "    <tr>\n",
       "      <th>medium</th>\n",
       "      <td>5129</td>\n",
       "      <td>1317</td>\n",
       "    </tr>\n",
       "  </tbody>\n",
       "</table>\n",
       "</div>"
      ],
      "text/plain": [
       "saiu        0     1\n",
       "salario            \n",
       "high     1155    82\n",
       "low      5144  2172\n",
       "medium   5129  1317"
      ]
     },
     "execution_count": 33,
     "metadata": {},
     "output_type": "execute_result"
    }
   ],
   "source": [
    "pd.crosstab(base.salario, base.saiu)"
   ]
  },
  {
   "cell_type": "code",
   "execution_count": 34,
   "id": "764085cf",
   "metadata": {},
   "outputs": [],
   "source": [
    "valores_salario = pd.crosstab(base.salario, base.saiu)\n",
    "soma_salario = valores_salario.sum(axis=1)"
   ]
  },
  {
   "cell_type": "code",
   "execution_count": 35,
   "id": "d7171aab",
   "metadata": {},
   "outputs": [],
   "source": [
    "#Divisão "
   ]
  },
  {
   "cell_type": "code",
   "execution_count": 36,
   "id": "8eb1f61d",
   "metadata": {},
   "outputs": [
    {
     "data": {
      "text/html": [
       "<div>\n",
       "<style scoped>\n",
       "    .dataframe tbody tr th:only-of-type {\n",
       "        vertical-align: middle;\n",
       "    }\n",
       "\n",
       "    .dataframe tbody tr th {\n",
       "        vertical-align: top;\n",
       "    }\n",
       "\n",
       "    .dataframe thead th {\n",
       "        text-align: right;\n",
       "    }\n",
       "</style>\n",
       "<table border=\"1\" class=\"dataframe\">\n",
       "  <thead>\n",
       "    <tr style=\"text-align: right;\">\n",
       "      <th>saiu</th>\n",
       "      <th>0</th>\n",
       "      <th>1</th>\n",
       "    </tr>\n",
       "    <tr>\n",
       "      <th>salario</th>\n",
       "      <th></th>\n",
       "      <th></th>\n",
       "    </tr>\n",
       "  </thead>\n",
       "  <tbody>\n",
       "    <tr>\n",
       "      <th>high</th>\n",
       "      <td>93.371059</td>\n",
       "      <td>6.628941</td>\n",
       "    </tr>\n",
       "    <tr>\n",
       "      <th>low</th>\n",
       "      <td>70.311646</td>\n",
       "      <td>29.688354</td>\n",
       "    </tr>\n",
       "    <tr>\n",
       "      <th>medium</th>\n",
       "      <td>79.568725</td>\n",
       "      <td>20.431275</td>\n",
       "    </tr>\n",
       "  </tbody>\n",
       "</table>\n",
       "</div>"
      ],
      "text/plain": [
       "saiu             0          1\n",
       "salario                      \n",
       "high     93.371059   6.628941\n",
       "low      70.311646  29.688354\n",
       "medium   79.568725  20.431275"
      ]
     },
     "execution_count": 36,
     "metadata": {},
     "output_type": "execute_result"
    }
   ],
   "source": [
    "valores_salario.divide(soma_salario, axis=0)*100"
   ]
  },
  {
   "cell_type": "code",
   "execution_count": 37,
   "id": "3780e9c0",
   "metadata": {},
   "outputs": [],
   "source": [
    "#Inserir toda informação numa variável "
   ]
  },
  {
   "cell_type": "code",
   "execution_count": 38,
   "id": "5af113b9",
   "metadata": {},
   "outputs": [],
   "source": [
    "proc_salario = valores_salario.divide(soma_salario, axis=0)*100\n"
   ]
  },
  {
   "cell_type": "code",
   "execution_count": 39,
   "id": "8172d83a",
   "metadata": {},
   "outputs": [
    {
     "data": {
      "text/plain": [
       "<Axes: xlabel='salario'>"
      ]
     },
     "execution_count": 39,
     "metadata": {},
     "output_type": "execute_result"
    },
    {
     "data": {
      "image/png": "[encoded data removed]",
      "text/plain": [
       "<Figure size 640x480 with 1 Axes>"
      ]
     },
     "metadata": {},
     "output_type": "display_data"
    }
   ],
   "source": [
    "proc_salario.plot(kind=\"bar\")"
   ]
  },
  {
   "cell_type": "code",
   "execution_count": 40,
   "id": "56d6bdf7",
   "metadata": {},
   "outputs": [],
   "source": [
    "#Modo de gráfico empilhado"
   ]
  },
  {
   "cell_type": "code",
   "execution_count": 41,
   "id": "aa166e58",
   "metadata": {},
   "outputs": [
    {
     "data": {
      "text/plain": [
       "<Axes: xlabel='salario'>"
      ]
     },
     "execution_count": 41,
     "metadata": {},
     "output_type": "execute_result"
    },
    {
     "data": {
      "image/png": "[encoded data removed]",
      "text/plain": [
       "<Figure size 640x480 with 1 Axes>"
      ]
     },
     "metadata": {},
     "output_type": "display_data"
    }
   ],
   "source": [
    "proc_salario.plot(kind=\"bar\", stacked = True)"
   ]
  },
  {
   "cell_type": "code",
   "execution_count": 42,
   "id": "01acbae0",
   "metadata": {},
   "outputs": [],
   "source": [
    "#Visão Geral dos Atributos"
   ]
  },
  {
   "cell_type": "code",
   "execution_count": 43,
   "id": "8cb1ab4d",
   "metadata": {},
   "outputs": [
    {
     "name": "stdout",
     "output_type": "stream",
     "text": [
      "<class 'pandas.core.frame.DataFrame'>\n",
      "RangeIndex: 14999 entries, 0 to 14998\n",
      "Data columns (total 10 columns):\n",
      " #   Column              Non-Null Count  Dtype  \n",
      "---  ------              --------------  -----  \n",
      " 0   nivel_satisfacao    14978 non-null  float64\n",
      " 1   ult_avaliacao       14999 non-null  float64\n",
      " 2   num_projetos        14999 non-null  int64  \n",
      " 3   media_horas_mes     14999 non-null  int64  \n",
      " 4   tempo_empresa       14999 non-null  int64  \n",
      " 5   aci_trabalho        14999 non-null  int64  \n",
      " 6   saiu                14999 non-null  int64  \n",
      " 7   promocao_ult_5anos  14999 non-null  int64  \n",
      " 8   departamento        14999 non-null  object \n",
      " 9   salario             14999 non-null  object \n",
      "dtypes: float64(2), int64(6), object(2)\n",
      "memory usage: 1.1+ MB\n"
     ]
    }
   ],
   "source": [
    "base.info()"
   ]
  },
  {
   "cell_type": "code",
   "execution_count": 49,
   "id": "0953e077",
   "metadata": {},
   "outputs": [],
   "source": [
    "#Verifica cada linha (atributo) se está vazio ou não"
   ]
  },
  {
   "cell_type": "code",
   "execution_count": 50,
   "id": "0a07378e",
   "metadata": {},
   "outputs": [
    {
     "data": {
      "text/plain": [
       "nivel_satisfacao      21\n",
       "ult_avaliacao          0\n",
       "num_projetos           0\n",
       "media_horas_mes        0\n",
       "tempo_empresa          0\n",
       "aci_trabalho           0\n",
       "saiu                   0\n",
       "promocao_ult_5anos     0\n",
       "departamento           0\n",
       "salario                0\n",
       "dtype: int64"
      ]
     },
     "execution_count": 50,
     "metadata": {},
     "output_type": "execute_result"
    }
   ],
   "source": [
    "base.isnull().sum()"
   ]
  },
  {
   "cell_type": "code",
   "execution_count": 51,
   "id": "017c93c5",
   "metadata": {},
   "outputs": [],
   "source": [
    "#Identifica linhas vazias"
   ]
  },
  {
   "cell_type": "code",
   "execution_count": 79,
   "id": "a2499393",
   "metadata": {},
   "outputs": [
    {
     "data": {
      "text/plain": [
       "0        False\n",
       "1        False\n",
       "2        False\n",
       "3        False\n",
       "4        False\n",
       "         ...  \n",
       "14994    False\n",
       "14995    False\n",
       "14996    False\n",
       "14997    False\n",
       "14998    False\n",
       "Name: nivel_satisfacao, Length: 14999, dtype: bool"
      ]
     },
     "execution_count": 79,
     "metadata": {},
     "output_type": "execute_result"
    }
   ],
   "source": [
    "base.nivel_satisfacao.isnull()"
   ]
  },
  {
   "cell_type": "code",
   "execution_count": 80,
   "id": "642b26eb",
   "metadata": {},
   "outputs": [],
   "source": [
    "#Media nivel de satifação"
   ]
  },
  {
   "cell_type": "code",
   "execution_count": 81,
   "id": "ba6efefd",
   "metadata": {},
   "outputs": [],
   "source": [
    "base.loc[base.nivel_satisfacao.isnull(),'nivel_satisfacao']=\\\n",
    "base.nivel_satisfacao.mean()"
   ]
  },
  {
   "cell_type": "code",
   "execution_count": 82,
   "id": "b083582b",
   "metadata": {},
   "outputs": [],
   "source": [
    "#Checagem se está tudo certo"
   ]
  },
  {
   "cell_type": "code",
   "execution_count": 83,
   "id": "8b3e2341",
   "metadata": {},
   "outputs": [
    {
     "data": {
      "text/plain": [
       "nivel_satisfacao            0\n",
       "ult_avaliacao               0\n",
       "num_projetos                0\n",
       "media_horas_mes             0\n",
       "tempo_empresa               0\n",
       "aci_trabalho                0\n",
       "saiu                        0\n",
       "promocao_ult_5anos          0\n",
       "departamento_RandD          0\n",
       "departamento_accounting     0\n",
       "departamento_hr             0\n",
       "departamento_management     0\n",
       "departamento_marketing      0\n",
       "departamento_product_mng    0\n",
       "departamento_sales          0\n",
       "departamento_support        0\n",
       "departamento_technical      0\n",
       "salario_low                 0\n",
       "salario_medium              0\n",
       "dtype: int64"
      ]
     },
     "execution_count": 83,
     "metadata": {},
     "output_type": "execute_result"
    }
   ],
   "source": [
    "base.isnull().sum()"
   ]
  },
  {
   "cell_type": "code",
   "execution_count": 84,
   "id": "593f8b78",
   "metadata": {},
   "outputs": [],
   "source": [
    "#Transformando atributos categóricos em atributos binários"
   ]
  },
  {
   "cell_type": "code",
   "execution_count": 85,
   "id": "2c566311",
   "metadata": {},
   "outputs": [],
   "source": [
    "base = pd.get_dummies(base,drop_first = True)"
   ]
  },
  {
   "cell_type": "code",
   "execution_count": 86,
   "id": "1e3abfd2",
   "metadata": {},
   "outputs": [
    {
     "data": {
      "text/html": [
       "<div>\n",
       "<style scoped>\n",
       "    .dataframe tbody tr th:only-of-type {\n",
       "        vertical-align: middle;\n",
       "    }\n",
       "\n",
       "    .dataframe tbody tr th {\n",
       "        vertical-align: top;\n",
       "    }\n",
       "\n",
       "    .dataframe thead th {\n",
       "        text-align: right;\n",
       "    }\n",
       "</style>\n",
       "<table border=\"1\" class=\"dataframe\">\n",
       "  <thead>\n",
       "    <tr style=\"text-align: right;\">\n",
       "      <th></th>\n",
       "      <th>nivel_satisfacao</th>\n",
       "      <th>ult_avaliacao</th>\n",
       "      <th>num_projetos</th>\n",
       "      <th>media_horas_mes</th>\n",
       "      <th>tempo_empresa</th>\n",
       "      <th>aci_trabalho</th>\n",
       "      <th>saiu</th>\n",
       "      <th>promocao_ult_5anos</th>\n",
       "      <th>departamento_RandD</th>\n",
       "      <th>departamento_accounting</th>\n",
       "      <th>departamento_hr</th>\n",
       "      <th>departamento_management</th>\n",
       "      <th>departamento_marketing</th>\n",
       "      <th>departamento_product_mng</th>\n",
       "      <th>departamento_sales</th>\n",
       "      <th>departamento_support</th>\n",
       "      <th>departamento_technical</th>\n",
       "      <th>salario_low</th>\n",
       "      <th>salario_medium</th>\n",
       "    </tr>\n",
       "  </thead>\n",
       "  <tbody>\n",
       "    <tr>\n",
       "      <th>0</th>\n",
       "      <td>0.38</td>\n",
       "      <td>0.53</td>\n",
       "      <td>2</td>\n",
       "      <td>157</td>\n",
       "      <td>3</td>\n",
       "      <td>0</td>\n",
       "      <td>1</td>\n",
       "      <td>0</td>\n",
       "      <td>0</td>\n",
       "      <td>0</td>\n",
       "      <td>0</td>\n",
       "      <td>0</td>\n",
       "      <td>0</td>\n",
       "      <td>0</td>\n",
       "      <td>1</td>\n",
       "      <td>0</td>\n",
       "      <td>0</td>\n",
       "      <td>1</td>\n",
       "      <td>0</td>\n",
       "    </tr>\n",
       "    <tr>\n",
       "      <th>1</th>\n",
       "      <td>0.80</td>\n",
       "      <td>0.86</td>\n",
       "      <td>5</td>\n",
       "      <td>262</td>\n",
       "      <td>6</td>\n",
       "      <td>0</td>\n",
       "      <td>1</td>\n",
       "      <td>0</td>\n",
       "      <td>0</td>\n",
       "      <td>0</td>\n",
       "      <td>0</td>\n",
       "      <td>0</td>\n",
       "      <td>0</td>\n",
       "      <td>0</td>\n",
       "      <td>1</td>\n",
       "      <td>0</td>\n",
       "      <td>0</td>\n",
       "      <td>0</td>\n",
       "      <td>1</td>\n",
       "    </tr>\n",
       "    <tr>\n",
       "      <th>2</th>\n",
       "      <td>0.11</td>\n",
       "      <td>0.88</td>\n",
       "      <td>7</td>\n",
       "      <td>272</td>\n",
       "      <td>4</td>\n",
       "      <td>0</td>\n",
       "      <td>1</td>\n",
       "      <td>0</td>\n",
       "      <td>0</td>\n",
       "      <td>0</td>\n",
       "      <td>0</td>\n",
       "      <td>0</td>\n",
       "      <td>0</td>\n",
       "      <td>0</td>\n",
       "      <td>1</td>\n",
       "      <td>0</td>\n",
       "      <td>0</td>\n",
       "      <td>0</td>\n",
       "      <td>1</td>\n",
       "    </tr>\n",
       "    <tr>\n",
       "      <th>3</th>\n",
       "      <td>0.72</td>\n",
       "      <td>0.87</td>\n",
       "      <td>5</td>\n",
       "      <td>223</td>\n",
       "      <td>5</td>\n",
       "      <td>0</td>\n",
       "      <td>1</td>\n",
       "      <td>0</td>\n",
       "      <td>0</td>\n",
       "      <td>0</td>\n",
       "      <td>0</td>\n",
       "      <td>0</td>\n",
       "      <td>0</td>\n",
       "      <td>0</td>\n",
       "      <td>1</td>\n",
       "      <td>0</td>\n",
       "      <td>0</td>\n",
       "      <td>1</td>\n",
       "      <td>0</td>\n",
       "    </tr>\n",
       "    <tr>\n",
       "      <th>4</th>\n",
       "      <td>0.37</td>\n",
       "      <td>0.52</td>\n",
       "      <td>2</td>\n",
       "      <td>159</td>\n",
       "      <td>3</td>\n",
       "      <td>0</td>\n",
       "      <td>1</td>\n",
       "      <td>0</td>\n",
       "      <td>0</td>\n",
       "      <td>0</td>\n",
       "      <td>0</td>\n",
       "      <td>0</td>\n",
       "      <td>0</td>\n",
       "      <td>0</td>\n",
       "      <td>1</td>\n",
       "      <td>0</td>\n",
       "      <td>0</td>\n",
       "      <td>1</td>\n",
       "      <td>0</td>\n",
       "    </tr>\n",
       "  </tbody>\n",
       "</table>\n",
       "</div>"
      ],
      "text/plain": [
       "   nivel_satisfacao  ult_avaliacao  num_projetos  media_horas_mes  \\\n",
       "0              0.38           0.53             2              157   \n",
       "1              0.80           0.86             5              262   \n",
       "2              0.11           0.88             7              272   \n",
       "3              0.72           0.87             5              223   \n",
       "4              0.37           0.52             2              159   \n",
       "\n",
       "   tempo_empresa  aci_trabalho  saiu  promocao_ult_5anos  departamento_RandD  \\\n",
       "0              3             0     1                   0                   0   \n",
       "1              6             0     1                   0                   0   \n",
       "2              4             0     1                   0                   0   \n",
       "3              5             0     1                   0                   0   \n",
       "4              3             0     1                   0                   0   \n",
       "\n",
       "   departamento_accounting  departamento_hr  departamento_management  \\\n",
       "0                        0                0                        0   \n",
       "1                        0                0                        0   \n",
       "2                        0                0                        0   \n",
       "3                        0                0                        0   \n",
       "4                        0                0                        0   \n",
       "\n",
       "   departamento_marketing  departamento_product_mng  departamento_sales  \\\n",
       "0                       0                         0                   1   \n",
       "1                       0                         0                   1   \n",
       "2                       0                         0                   1   \n",
       "3                       0                         0                   1   \n",
       "4                       0                         0                   1   \n",
       "\n",
       "   departamento_support  departamento_technical  salario_low  salario_medium  \n",
       "0                     0                       0            1               0  \n",
       "1                     0                       0            0               1  \n",
       "2                     0                       0            0               1  \n",
       "3                     0                       0            1               0  \n",
       "4                     0                       0            1               0  "
      ]
     },
     "execution_count": 86,
     "metadata": {},
     "output_type": "execute_result"
    }
   ],
   "source": [
    "base.head()"
   ]
  },
  {
   "cell_type": "code",
   "execution_count": 87,
   "id": "9037973c",
   "metadata": {},
   "outputs": [],
   "source": [
    "#Retorna o valor máximo dos atributos"
   ]
  },
  {
   "cell_type": "code",
   "execution_count": 88,
   "id": "bc4ed91f",
   "metadata": {},
   "outputs": [
    {
     "data": {
      "text/plain": [
       "nivel_satisfacao              1.0\n",
       "ult_avaliacao                 1.0\n",
       "num_projetos                  7.0\n",
       "media_horas_mes             310.0\n",
       "tempo_empresa                10.0\n",
       "aci_trabalho                  1.0\n",
       "saiu                          1.0\n",
       "promocao_ult_5anos            1.0\n",
       "departamento_RandD            1.0\n",
       "departamento_accounting       1.0\n",
       "departamento_hr               1.0\n",
       "departamento_management       1.0\n",
       "departamento_marketing        1.0\n",
       "departamento_product_mng      1.0\n",
       "departamento_sales            1.0\n",
       "departamento_support          1.0\n",
       "departamento_technical        1.0\n",
       "salario_low                   1.0\n",
       "salario_medium                1.0\n",
       "dtype: float64"
      ]
     },
     "execution_count": 88,
     "metadata": {},
     "output_type": "execute_result"
    }
   ],
   "source": [
    "base.max()"
   ]
  },
  {
   "cell_type": "code",
   "execution_count": 89,
   "id": "525951bf",
   "metadata": {},
   "outputs": [],
   "source": [
    "#Data frame"
   ]
  },
  {
   "cell_type": "code",
   "execution_count": 90,
   "id": "58cc60d8",
   "metadata": {},
   "outputs": [
    {
     "data": {
      "text/html": [
       "<div>\n",
       "<style scoped>\n",
       "    .dataframe tbody tr th:only-of-type {\n",
       "        vertical-align: middle;\n",
       "    }\n",
       "\n",
       "    .dataframe tbody tr th {\n",
       "        vertical-align: top;\n",
       "    }\n",
       "\n",
       "    .dataframe thead th {\n",
       "        text-align: right;\n",
       "    }\n",
       "</style>\n",
       "<table border=\"1\" class=\"dataframe\">\n",
       "  <thead>\n",
       "    <tr style=\"text-align: right;\">\n",
       "      <th></th>\n",
       "      <th>max</th>\n",
       "      <th>min</th>\n",
       "    </tr>\n",
       "  </thead>\n",
       "  <tbody>\n",
       "    <tr>\n",
       "      <th>nivel_satisfacao</th>\n",
       "      <td>1.0</td>\n",
       "      <td>0.09</td>\n",
       "    </tr>\n",
       "    <tr>\n",
       "      <th>ult_avaliacao</th>\n",
       "      <td>1.0</td>\n",
       "      <td>0.36</td>\n",
       "    </tr>\n",
       "    <tr>\n",
       "      <th>num_projetos</th>\n",
       "      <td>7.0</td>\n",
       "      <td>2.00</td>\n",
       "    </tr>\n",
       "    <tr>\n",
       "      <th>media_horas_mes</th>\n",
       "      <td>310.0</td>\n",
       "      <td>96.00</td>\n",
       "    </tr>\n",
       "    <tr>\n",
       "      <th>tempo_empresa</th>\n",
       "      <td>10.0</td>\n",
       "      <td>2.00</td>\n",
       "    </tr>\n",
       "    <tr>\n",
       "      <th>aci_trabalho</th>\n",
       "      <td>1.0</td>\n",
       "      <td>0.00</td>\n",
       "    </tr>\n",
       "    <tr>\n",
       "      <th>saiu</th>\n",
       "      <td>1.0</td>\n",
       "      <td>0.00</td>\n",
       "    </tr>\n",
       "    <tr>\n",
       "      <th>promocao_ult_5anos</th>\n",
       "      <td>1.0</td>\n",
       "      <td>0.00</td>\n",
       "    </tr>\n",
       "    <tr>\n",
       "      <th>departamento_RandD</th>\n",
       "      <td>1.0</td>\n",
       "      <td>0.00</td>\n",
       "    </tr>\n",
       "    <tr>\n",
       "      <th>departamento_accounting</th>\n",
       "      <td>1.0</td>\n",
       "      <td>0.00</td>\n",
       "    </tr>\n",
       "    <tr>\n",
       "      <th>departamento_hr</th>\n",
       "      <td>1.0</td>\n",
       "      <td>0.00</td>\n",
       "    </tr>\n",
       "    <tr>\n",
       "      <th>departamento_management</th>\n",
       "      <td>1.0</td>\n",
       "      <td>0.00</td>\n",
       "    </tr>\n",
       "    <tr>\n",
       "      <th>departamento_marketing</th>\n",
       "      <td>1.0</td>\n",
       "      <td>0.00</td>\n",
       "    </tr>\n",
       "    <tr>\n",
       "      <th>departamento_product_mng</th>\n",
       "      <td>1.0</td>\n",
       "      <td>0.00</td>\n",
       "    </tr>\n",
       "    <tr>\n",
       "      <th>departamento_sales</th>\n",
       "      <td>1.0</td>\n",
       "      <td>0.00</td>\n",
       "    </tr>\n",
       "    <tr>\n",
       "      <th>departamento_support</th>\n",
       "      <td>1.0</td>\n",
       "      <td>0.00</td>\n",
       "    </tr>\n",
       "    <tr>\n",
       "      <th>departamento_technical</th>\n",
       "      <td>1.0</td>\n",
       "      <td>0.00</td>\n",
       "    </tr>\n",
       "    <tr>\n",
       "      <th>salario_low</th>\n",
       "      <td>1.0</td>\n",
       "      <td>0.00</td>\n",
       "    </tr>\n",
       "    <tr>\n",
       "      <th>salario_medium</th>\n",
       "      <td>1.0</td>\n",
       "      <td>0.00</td>\n",
       "    </tr>\n",
       "  </tbody>\n",
       "</table>\n",
       "</div>"
      ],
      "text/plain": [
       "                            max    min\n",
       "nivel_satisfacao            1.0   0.09\n",
       "ult_avaliacao               1.0   0.36\n",
       "num_projetos                7.0   2.00\n",
       "media_horas_mes           310.0  96.00\n",
       "tempo_empresa              10.0   2.00\n",
       "aci_trabalho                1.0   0.00\n",
       "saiu                        1.0   0.00\n",
       "promocao_ult_5anos          1.0   0.00\n",
       "departamento_RandD          1.0   0.00\n",
       "departamento_accounting     1.0   0.00\n",
       "departamento_hr             1.0   0.00\n",
       "departamento_management     1.0   0.00\n",
       "departamento_marketing      1.0   0.00\n",
       "departamento_product_mng    1.0   0.00\n",
       "departamento_sales          1.0   0.00\n",
       "departamento_support        1.0   0.00\n",
       "departamento_technical      1.0   0.00\n",
       "salario_low                 1.0   0.00\n",
       "salario_medium              1.0   0.00"
      ]
     },
     "execution_count": 90,
     "metadata": {},
     "output_type": "execute_result"
    }
   ],
   "source": [
    "pd.DataFrame([base.max(), base.min()], index=[\"max\", \"min\"]).T"
   ]
  },
  {
   "cell_type": "code",
   "execution_count": 91,
   "id": "6ea31e38",
   "metadata": {},
   "outputs": [
    {
     "name": "stdout",
     "output_type": "stream",
     "text": [
      "Requirement already satisfied: scikit-learn in c:\\users\\kaio_\\appdata\\local\\programs\\python\\python310\\lib\\site-packages (1.2.2)\n",
      "Requirement already satisfied: numpy>=1.17.3 in c:\\users\\kaio_\\appdata\\local\\programs\\python\\python310\\lib\\site-packages (from scikit-learn) (1.24.2)\n",
      "Requirement already satisfied: joblib>=1.1.1 in c:\\users\\kaio_\\appdata\\local\\programs\\python\\python310\\lib\\site-packages (from scikit-learn) (1.2.0)\n",
      "Requirement already satisfied: scipy>=1.3.2 in c:\\users\\kaio_\\appdata\\local\\programs\\python\\python310\\lib\\site-packages (from scikit-learn) (1.10.1)\n",
      "Requirement already satisfied: threadpoolctl>=2.0.0 in c:\\users\\kaio_\\appdata\\local\\programs\\python\\python310\\lib\\site-packages (from scikit-learn) (3.1.0)\n"
     ]
    },
    {
     "name": "stderr",
     "output_type": "stream",
     "text": [
      "\n",
      "[notice] A new release of pip available: 22.2.2 -> 23.0.1\n",
      "[notice] To update, run: python.exe -m pip install --upgrade pip\n"
     ]
    }
   ],
   "source": [
    "!pip install scikit-learn"
   ]
  },
  {
   "cell_type": "code",
   "execution_count": 92,
   "id": "c06fb01e",
   "metadata": {},
   "outputs": [],
   "source": [
    "#Normalizar base de dados em 0 e 1\n",
    "from sklearn import preprocessing"
   ]
  },
  {
   "cell_type": "code",
   "execution_count": 99,
   "id": "9f642fbb",
   "metadata": {},
   "outputs": [
    {
     "data": {
      "text/plain": [
       "array([[0.38, 0.53, 2.  , ..., 0.  , 1.  , 0.  ],\n",
       "       [0.8 , 0.86, 5.  , ..., 0.  , 0.  , 1.  ],\n",
       "       [0.11, 0.88, 7.  , ..., 0.  , 0.  , 1.  ],\n",
       "       ...,\n",
       "       [0.37, 0.53, 2.  , ..., 0.  , 1.  , 0.  ],\n",
       "       [0.11, 0.96, 6.  , ..., 0.  , 1.  , 0.  ],\n",
       "       [0.37, 0.52, 2.  , ..., 0.  , 1.  , 0.  ]])"
      ]
     },
     "execution_count": 99,
     "metadata": {},
     "output_type": "execute_result"
    }
   ],
   "source": [
    "x = base.values\n",
    "x"
   ]
  },
  {
   "cell_type": "code",
   "execution_count": 96,
   "id": "8ef252fa",
   "metadata": {},
   "outputs": [],
   "source": [
    "minmax = preprocessing.MinMaxScaler()"
   ]
  },
  {
   "cell_type": "code",
   "execution_count": 97,
   "id": "bd407870",
   "metadata": {},
   "outputs": [],
   "source": [
    "#Transform X"
   ]
  },
  {
   "cell_type": "code",
   "execution_count": 98,
   "id": "a4e07145",
   "metadata": {},
   "outputs": [
    {
     "data": {
      "text/plain": [
       "array([[0.31868132, 0.265625  , 0.        , ..., 0.        , 1.        ,\n",
       "        0.        ],\n",
       "       [0.78021978, 0.78125   , 0.6       , ..., 0.        , 0.        ,\n",
       "        1.        ],\n",
       "       [0.02197802, 0.8125    , 1.        , ..., 0.        , 0.        ,\n",
       "        1.        ],\n",
       "       ...,\n",
       "       [0.30769231, 0.265625  , 0.        , ..., 0.        , 1.        ,\n",
       "        0.        ],\n",
       "       [0.02197802, 0.9375    , 0.8       , ..., 0.        , 1.        ,\n",
       "        0.        ],\n",
       "       [0.30769231, 0.25      , 0.        , ..., 0.        , 1.        ,\n",
       "        0.        ]])"
      ]
     },
     "execution_count": 98,
     "metadata": {},
     "output_type": "execute_result"
    }
   ],
   "source": [
    "x_scaled = minmax.fit_transform(x)\n",
    "x_scaled"
   ]
  },
  {
   "cell_type": "code",
   "execution_count": 100,
   "id": "95089071",
   "metadata": {},
   "outputs": [],
   "source": [
    "#Chama o Data Frame"
   ]
  },
  {
   "cell_type": "code",
   "execution_count": 101,
   "id": "763b2b96",
   "metadata": {},
   "outputs": [],
   "source": [
    "base = pd.DataFrame(x_scaled, columns = base.columns)"
   ]
  },
  {
   "cell_type": "code",
   "execution_count": 102,
   "id": "b7e805b6",
   "metadata": {},
   "outputs": [
    {
     "data": {
      "text/html": [
       "<div>\n",
       "<style scoped>\n",
       "    .dataframe tbody tr th:only-of-type {\n",
       "        vertical-align: middle;\n",
       "    }\n",
       "\n",
       "    .dataframe tbody tr th {\n",
       "        vertical-align: top;\n",
       "    }\n",
       "\n",
       "    .dataframe thead th {\n",
       "        text-align: right;\n",
       "    }\n",
       "</style>\n",
       "<table border=\"1\" class=\"dataframe\">\n",
       "  <thead>\n",
       "    <tr style=\"text-align: right;\">\n",
       "      <th></th>\n",
       "      <th>nivel_satisfacao</th>\n",
       "      <th>ult_avaliacao</th>\n",
       "      <th>num_projetos</th>\n",
       "      <th>media_horas_mes</th>\n",
       "      <th>tempo_empresa</th>\n",
       "      <th>aci_trabalho</th>\n",
       "      <th>saiu</th>\n",
       "      <th>promocao_ult_5anos</th>\n",
       "      <th>departamento_RandD</th>\n",
       "      <th>departamento_accounting</th>\n",
       "      <th>departamento_hr</th>\n",
       "      <th>departamento_management</th>\n",
       "      <th>departamento_marketing</th>\n",
       "      <th>departamento_product_mng</th>\n",
       "      <th>departamento_sales</th>\n",
       "      <th>departamento_support</th>\n",
       "      <th>departamento_technical</th>\n",
       "      <th>salario_low</th>\n",
       "      <th>salario_medium</th>\n",
       "    </tr>\n",
       "  </thead>\n",
       "  <tbody>\n",
       "    <tr>\n",
       "      <th>0</th>\n",
       "      <td>0.318681</td>\n",
       "      <td>0.265625</td>\n",
       "      <td>0.0</td>\n",
       "      <td>0.285047</td>\n",
       "      <td>0.125</td>\n",
       "      <td>0.0</td>\n",
       "      <td>1.0</td>\n",
       "      <td>0.0</td>\n",
       "      <td>0.0</td>\n",
       "      <td>0.0</td>\n",
       "      <td>0.0</td>\n",
       "      <td>0.0</td>\n",
       "      <td>0.0</td>\n",
       "      <td>0.0</td>\n",
       "      <td>1.0</td>\n",
       "      <td>0.0</td>\n",
       "      <td>0.0</td>\n",
       "      <td>1.0</td>\n",
       "      <td>0.0</td>\n",
       "    </tr>\n",
       "    <tr>\n",
       "      <th>1</th>\n",
       "      <td>0.780220</td>\n",
       "      <td>0.781250</td>\n",
       "      <td>0.6</td>\n",
       "      <td>0.775701</td>\n",
       "      <td>0.500</td>\n",
       "      <td>0.0</td>\n",
       "      <td>1.0</td>\n",
       "      <td>0.0</td>\n",
       "      <td>0.0</td>\n",
       "      <td>0.0</td>\n",
       "      <td>0.0</td>\n",
       "      <td>0.0</td>\n",
       "      <td>0.0</td>\n",
       "      <td>0.0</td>\n",
       "      <td>1.0</td>\n",
       "      <td>0.0</td>\n",
       "      <td>0.0</td>\n",
       "      <td>0.0</td>\n",
       "      <td>1.0</td>\n",
       "    </tr>\n",
       "    <tr>\n",
       "      <th>2</th>\n",
       "      <td>0.021978</td>\n",
       "      <td>0.812500</td>\n",
       "      <td>1.0</td>\n",
       "      <td>0.822430</td>\n",
       "      <td>0.250</td>\n",
       "      <td>0.0</td>\n",
       "      <td>1.0</td>\n",
       "      <td>0.0</td>\n",
       "      <td>0.0</td>\n",
       "      <td>0.0</td>\n",
       "      <td>0.0</td>\n",
       "      <td>0.0</td>\n",
       "      <td>0.0</td>\n",
       "      <td>0.0</td>\n",
       "      <td>1.0</td>\n",
       "      <td>0.0</td>\n",
       "      <td>0.0</td>\n",
       "      <td>0.0</td>\n",
       "      <td>1.0</td>\n",
       "    </tr>\n",
       "    <tr>\n",
       "      <th>3</th>\n",
       "      <td>0.692308</td>\n",
       "      <td>0.796875</td>\n",
       "      <td>0.6</td>\n",
       "      <td>0.593458</td>\n",
       "      <td>0.375</td>\n",
       "      <td>0.0</td>\n",
       "      <td>1.0</td>\n",
       "      <td>0.0</td>\n",
       "      <td>0.0</td>\n",
       "      <td>0.0</td>\n",
       "      <td>0.0</td>\n",
       "      <td>0.0</td>\n",
       "      <td>0.0</td>\n",
       "      <td>0.0</td>\n",
       "      <td>1.0</td>\n",
       "      <td>0.0</td>\n",
       "      <td>0.0</td>\n",
       "      <td>1.0</td>\n",
       "      <td>0.0</td>\n",
       "    </tr>\n",
       "    <tr>\n",
       "      <th>4</th>\n",
       "      <td>0.307692</td>\n",
       "      <td>0.250000</td>\n",
       "      <td>0.0</td>\n",
       "      <td>0.294393</td>\n",
       "      <td>0.125</td>\n",
       "      <td>0.0</td>\n",
       "      <td>1.0</td>\n",
       "      <td>0.0</td>\n",
       "      <td>0.0</td>\n",
       "      <td>0.0</td>\n",
       "      <td>0.0</td>\n",
       "      <td>0.0</td>\n",
       "      <td>0.0</td>\n",
       "      <td>0.0</td>\n",
       "      <td>1.0</td>\n",
       "      <td>0.0</td>\n",
       "      <td>0.0</td>\n",
       "      <td>1.0</td>\n",
       "      <td>0.0</td>\n",
       "    </tr>\n",
       "  </tbody>\n",
       "</table>\n",
       "</div>"
      ],
      "text/plain": [
       "   nivel_satisfacao  ult_avaliacao  num_projetos  media_horas_mes  \\\n",
       "0          0.318681       0.265625           0.0         0.285047   \n",
       "1          0.780220       0.781250           0.6         0.775701   \n",
       "2          0.021978       0.812500           1.0         0.822430   \n",
       "3          0.692308       0.796875           0.6         0.593458   \n",
       "4          0.307692       0.250000           0.0         0.294393   \n",
       "\n",
       "   tempo_empresa  aci_trabalho  saiu  promocao_ult_5anos  departamento_RandD  \\\n",
       "0          0.125           0.0   1.0                 0.0                 0.0   \n",
       "1          0.500           0.0   1.0                 0.0                 0.0   \n",
       "2          0.250           0.0   1.0                 0.0                 0.0   \n",
       "3          0.375           0.0   1.0                 0.0                 0.0   \n",
       "4          0.125           0.0   1.0                 0.0                 0.0   \n",
       "\n",
       "   departamento_accounting  departamento_hr  departamento_management  \\\n",
       "0                      0.0              0.0                      0.0   \n",
       "1                      0.0              0.0                      0.0   \n",
       "2                      0.0              0.0                      0.0   \n",
       "3                      0.0              0.0                      0.0   \n",
       "4                      0.0              0.0                      0.0   \n",
       "\n",
       "   departamento_marketing  departamento_product_mng  departamento_sales  \\\n",
       "0                     0.0                       0.0                 1.0   \n",
       "1                     0.0                       0.0                 1.0   \n",
       "2                     0.0                       0.0                 1.0   \n",
       "3                     0.0                       0.0                 1.0   \n",
       "4                     0.0                       0.0                 1.0   \n",
       "\n",
       "   departamento_support  departamento_technical  salario_low  salario_medium  \n",
       "0                   0.0                     0.0          1.0             0.0  \n",
       "1                   0.0                     0.0          0.0             1.0  \n",
       "2                   0.0                     0.0          0.0             1.0  \n",
       "3                   0.0                     0.0          1.0             0.0  \n",
       "4                   0.0                     0.0          1.0             0.0  "
      ]
     },
     "execution_count": 102,
     "metadata": {},
     "output_type": "execute_result"
    }
   ],
   "source": [
    "base.head()"
   ]
  },
  {
   "cell_type": "code",
   "execution_count": 103,
   "id": "9547189c",
   "metadata": {},
   "outputs": [],
   "source": [
    "#Visualiza o número mínimo e máximo"
   ]
  },
  {
   "cell_type": "code",
   "execution_count": 104,
   "id": "d458ebe0",
   "metadata": {},
   "outputs": [
    {
     "data": {
      "text/html": [
       "<div>\n",
       "<style scoped>\n",
       "    .dataframe tbody tr th:only-of-type {\n",
       "        vertical-align: middle;\n",
       "    }\n",
       "\n",
       "    .dataframe tbody tr th {\n",
       "        vertical-align: top;\n",
       "    }\n",
       "\n",
       "    .dataframe thead th {\n",
       "        text-align: right;\n",
       "    }\n",
       "</style>\n",
       "<table border=\"1\" class=\"dataframe\">\n",
       "  <thead>\n",
       "    <tr style=\"text-align: right;\">\n",
       "      <th></th>\n",
       "      <th>max</th>\n",
       "      <th>min</th>\n",
       "    </tr>\n",
       "  </thead>\n",
       "  <tbody>\n",
       "    <tr>\n",
       "      <th>nivel_satisfacao</th>\n",
       "      <td>1.0</td>\n",
       "      <td>0.0</td>\n",
       "    </tr>\n",
       "    <tr>\n",
       "      <th>ult_avaliacao</th>\n",
       "      <td>1.0</td>\n",
       "      <td>0.0</td>\n",
       "    </tr>\n",
       "    <tr>\n",
       "      <th>num_projetos</th>\n",
       "      <td>1.0</td>\n",
       "      <td>0.0</td>\n",
       "    </tr>\n",
       "    <tr>\n",
       "      <th>media_horas_mes</th>\n",
       "      <td>1.0</td>\n",
       "      <td>0.0</td>\n",
       "    </tr>\n",
       "    <tr>\n",
       "      <th>tempo_empresa</th>\n",
       "      <td>1.0</td>\n",
       "      <td>0.0</td>\n",
       "    </tr>\n",
       "    <tr>\n",
       "      <th>aci_trabalho</th>\n",
       "      <td>1.0</td>\n",
       "      <td>0.0</td>\n",
       "    </tr>\n",
       "    <tr>\n",
       "      <th>saiu</th>\n",
       "      <td>1.0</td>\n",
       "      <td>0.0</td>\n",
       "    </tr>\n",
       "    <tr>\n",
       "      <th>promocao_ult_5anos</th>\n",
       "      <td>1.0</td>\n",
       "      <td>0.0</td>\n",
       "    </tr>\n",
       "    <tr>\n",
       "      <th>departamento_RandD</th>\n",
       "      <td>1.0</td>\n",
       "      <td>0.0</td>\n",
       "    </tr>\n",
       "    <tr>\n",
       "      <th>departamento_accounting</th>\n",
       "      <td>1.0</td>\n",
       "      <td>0.0</td>\n",
       "    </tr>\n",
       "    <tr>\n",
       "      <th>departamento_hr</th>\n",
       "      <td>1.0</td>\n",
       "      <td>0.0</td>\n",
       "    </tr>\n",
       "    <tr>\n",
       "      <th>departamento_management</th>\n",
       "      <td>1.0</td>\n",
       "      <td>0.0</td>\n",
       "    </tr>\n",
       "    <tr>\n",
       "      <th>departamento_marketing</th>\n",
       "      <td>1.0</td>\n",
       "      <td>0.0</td>\n",
       "    </tr>\n",
       "    <tr>\n",
       "      <th>departamento_product_mng</th>\n",
       "      <td>1.0</td>\n",
       "      <td>0.0</td>\n",
       "    </tr>\n",
       "    <tr>\n",
       "      <th>departamento_sales</th>\n",
       "      <td>1.0</td>\n",
       "      <td>0.0</td>\n",
       "    </tr>\n",
       "    <tr>\n",
       "      <th>departamento_support</th>\n",
       "      <td>1.0</td>\n",
       "      <td>0.0</td>\n",
       "    </tr>\n",
       "    <tr>\n",
       "      <th>departamento_technical</th>\n",
       "      <td>1.0</td>\n",
       "      <td>0.0</td>\n",
       "    </tr>\n",
       "    <tr>\n",
       "      <th>salario_low</th>\n",
       "      <td>1.0</td>\n",
       "      <td>0.0</td>\n",
       "    </tr>\n",
       "    <tr>\n",
       "      <th>salario_medium</th>\n",
       "      <td>1.0</td>\n",
       "      <td>0.0</td>\n",
       "    </tr>\n",
       "  </tbody>\n",
       "</table>\n",
       "</div>"
      ],
      "text/plain": [
       "                          max  min\n",
       "nivel_satisfacao          1.0  0.0\n",
       "ult_avaliacao             1.0  0.0\n",
       "num_projetos              1.0  0.0\n",
       "media_horas_mes           1.0  0.0\n",
       "tempo_empresa             1.0  0.0\n",
       "aci_trabalho              1.0  0.0\n",
       "saiu                      1.0  0.0\n",
       "promocao_ult_5anos        1.0  0.0\n",
       "departamento_RandD        1.0  0.0\n",
       "departamento_accounting   1.0  0.0\n",
       "departamento_hr           1.0  0.0\n",
       "departamento_management   1.0  0.0\n",
       "departamento_marketing    1.0  0.0\n",
       "departamento_product_mng  1.0  0.0\n",
       "departamento_sales        1.0  0.0\n",
       "departamento_support      1.0  0.0\n",
       "departamento_technical    1.0  0.0\n",
       "salario_low               1.0  0.0\n",
       "salario_medium            1.0  0.0"
      ]
     },
     "execution_count": 104,
     "metadata": {},
     "output_type": "execute_result"
    }
   ],
   "source": [
    "pd.DataFrame([base.max(), base.min()], index=[\"max\", \"min\"]).T"
   ]
  },
  {
   "cell_type": "code",
   "execution_count": 105,
   "id": "f9bc2b95",
   "metadata": {},
   "outputs": [],
   "source": [
    "#SElecopma todas as colunas"
   ]
  },
  {
   "cell_type": "code",
   "execution_count": 151,
   "id": "c85b5dc7",
   "metadata": {},
   "outputs": [
    {
     "data": {
      "text/plain": [
       "['nivel_satisfacao',\n",
       " 'ult_avaliacao',\n",
       " 'num_projetos',\n",
       " 'media_horas_mes',\n",
       " 'tempo_empresa',\n",
       " 'aci_trabalho',\n",
       " 'saiu',\n",
       " 'promocao_ult_5anos',\n",
       " 'departamento_RandD',\n",
       " 'departamento_accounting',\n",
       " 'departamento_hr',\n",
       " 'departamento_management',\n",
       " 'departamento_marketing',\n",
       " 'departamento_product_mng',\n",
       " 'departamento_sales',\n",
       " 'departamento_support',\n",
       " 'departamento_technical',\n",
       " 'salario_low',\n",
       " 'salario_medium']"
      ]
     },
     "execution_count": 151,
     "metadata": {},
     "output_type": "execute_result"
    }
   ],
   "source": [
    "cols = list(base.columns)\n",
    "cols"
   ]
  },
  {
   "cell_type": "code",
   "execution_count": 152,
   "id": "3febc332",
   "metadata": {},
   "outputs": [],
   "source": [
    "#Remove a coluna"
   ]
  },
  {
   "cell_type": "code",
   "execution_count": 153,
   "id": "e5434168",
   "metadata": {},
   "outputs": [
    {
     "data": {
      "text/plain": [
       "['nivel_satisfacao',\n",
       " 'ult_avaliacao',\n",
       " 'num_projetos',\n",
       " 'media_horas_mes',\n",
       " 'tempo_empresa',\n",
       " 'aci_trabalho',\n",
       " 'promocao_ult_5anos',\n",
       " 'departamento_RandD',\n",
       " 'departamento_accounting',\n",
       " 'departamento_hr',\n",
       " 'departamento_management',\n",
       " 'departamento_marketing',\n",
       " 'departamento_product_mng',\n",
       " 'departamento_sales',\n",
       " 'departamento_support',\n",
       " 'departamento_technical',\n",
       " 'salario_low',\n",
       " 'salario_medium']"
      ]
     },
     "execution_count": 153,
     "metadata": {},
     "output_type": "execute_result"
    }
   ],
   "source": [
    "cols.remove(\"saiu\")\n",
    "cols"
   ]
  },
  {
   "cell_type": "code",
   "execution_count": 154,
   "id": "91cf82a0",
   "metadata": {},
   "outputs": [],
   "source": [
    "#seleciona todas as colunas"
   ]
  },
  {
   "cell_type": "code",
   "execution_count": 155,
   "id": "e8ede918",
   "metadata": {},
   "outputs": [],
   "source": [
    "X = base[cols]"
   ]
  },
  {
   "cell_type": "code",
   "execution_count": 156,
   "id": "44db3a33",
   "metadata": {},
   "outputs": [],
   "source": [
    "y = base[\"saiu\"]"
   ]
  },
  {
   "cell_type": "code",
   "execution_count": 157,
   "id": "9ebe0b2c",
   "metadata": {},
   "outputs": [],
   "source": [
    "#importar os algoritimos para a nossa modelagem\n",
    "from sklearn.neighbors import KNeighborsClassifier\n",
    "from sklearn.tree import DecisionTreeClassifier"
   ]
  },
  {
   "cell_type": "code",
   "execution_count": 158,
   "id": "9c2b1011",
   "metadata": {},
   "outputs": [],
   "source": [
    "#criar a instancia do modelo"
   ]
  },
  {
   "cell_type": "code",
   "execution_count": 159,
   "id": "706e4eb3",
   "metadata": {},
   "outputs": [],
   "source": [
    "knn = KNeighborsClassifier(n_neighbors=3)\n",
    "tree = DecisionTreeClassifier()"
   ]
  },
  {
   "cell_type": "code",
   "execution_count": 160,
   "id": "ecce9504",
   "metadata": {},
   "outputs": [],
   "source": [
    "#"
   ]
  },
  {
   "cell_type": "code",
   "execution_count": 167,
   "id": "620ae379",
   "metadata": {},
   "outputs": [],
   "source": [
    "from sklearn.model_selection import train_test_split"
   ]
  },
  {
   "cell_type": "code",
   "execution_count": 168,
   "id": "a6f0f25a",
   "metadata": {},
   "outputs": [],
   "source": [
    "#Passa as proporções"
   ]
  },
  {
   "cell_type": "code",
   "execution_count": 170,
   "id": "53292ecb",
   "metadata": {},
   "outputs": [
    {
     "name": "stdout",
     "output_type": "stream",
     "text": [
      "(11999, 18) (3000, 18)\n"
     ]
    }
   ],
   "source": [
    "X_train, X_test, y_train, y_test = train_test_split(X,y,test_size=0.2)\n",
    "X_train\n",
    "print(X_train.shape, X_test.shape)"
   ]
  },
  {
   "cell_type": "code",
   "execution_count": 184,
   "id": "14e4b3a5",
   "metadata": {},
   "outputs": [
    {
     "data": {
      "text/plain": [
       "0.9476666666666667"
      ]
     },
     "execution_count": 184,
     "metadata": {},
     "output_type": "execute_result"
    }
   ],
   "source": [
    "#\n",
    "from sklearn.metrics import confusion_matrix, accuracy_score\n",
    "\n",
    "knn.fit(X_train, y_train)\n",
    "predicted = knn.predict(X_test)\n",
    "accuracy_score(predicted, y_test)"
   ]
  },
  {
   "cell_type": "code",
   "execution_count": 185,
   "id": "5e04b81d",
   "metadata": {},
   "outputs": [],
   "source": [
    "#consultar se o programa está funcionando"
   ]
  },
  {
   "cell_type": "code",
   "execution_count": 186,
   "id": "96d233a0",
   "metadata": {},
   "outputs": [
    {
     "data": {
      "text/plain": [
       "array([[2173,   54],\n",
       "       [ 103,  670]], dtype=int64)"
      ]
     },
     "execution_count": 186,
     "metadata": {},
     "output_type": "execute_result"
    }
   ],
   "source": [
    "confusion_matrix(predicted, y_test)"
   ]
  },
  {
   "cell_type": "code",
   "execution_count": 187,
   "id": "f0aaf7bb",
   "metadata": {},
   "outputs": [
    {
     "data": {
      "text/html": [
       "<style>#sk-container-id-2 {color: black;background-color: white;}#sk-container-id-2 pre{padding: 0;}#sk-container-id-2 div.sk-toggleable {background-color: white;}#sk-container-id-2 label.sk-toggleable__label {cursor: pointer;display: block;width: 100%;margin-bottom: 0;padding: 0.3em;box-sizing: border-box;text-align: center;}#sk-container-id-2 label.sk-toggleable__label-arrow:before {content: \"▸\";float: left;margin-right: 0.25em;color: #696969;}#sk-container-id-2 label.sk-toggleable__label-arrow:hover:before {color: black;}#sk-container-id-2 div.sk-estimator:hover label.sk-toggleable__label-arrow:before {color: black;}#sk-container-id-2 div.sk-toggleable__content {max-height: 0;max-width: 0;overflow: hidden;text-align: left;background-color: #f0f8ff;}#sk-container-id-2 div.sk-toggleable__content pre {margin: 0.2em;color: black;border-radius: 0.25em;background-color: #f0f8ff;}#sk-container-id-2 input.sk-toggleable__control:checked~div.sk-toggleable__content {max-height: 200px;max-width: 100%;overflow: auto;}#sk-container-id-2 input.sk-toggleable__control:checked~label.sk-toggleable__label-arrow:before {content: \"▾\";}#sk-container-id-2 div.sk-estimator input.sk-toggleable__control:checked~label.sk-toggleable__label {background-color: #d4ebff;}#sk-container-id-2 div.sk-label input.sk-toggleable__control:checked~label.sk-toggleable__label {background-color: #d4ebff;}#sk-container-id-2 input.sk-hidden--visually {border: 0;clip: rect(1px 1px 1px 1px);clip: rect(1px, 1px, 1px, 1px);height: 1px;margin: -1px;overflow: hidden;padding: 0;position: absolute;width: 1px;}#sk-container-id-2 div.sk-estimator {font-family: monospace;background-color: #f0f8ff;border: 1px dotted black;border-radius: 0.25em;box-sizing: border-box;margin-bottom: 0.5em;}#sk-container-id-2 div.sk-estimator:hover {background-color: #d4ebff;}#sk-container-id-2 div.sk-parallel-item::after {content: \"\";width: 100%;border-bottom: 1px solid gray;flex-grow: 1;}#sk-container-id-2 div.sk-label:hover label.sk-toggleable__label {background-color: #d4ebff;}#sk-container-id-2 div.sk-serial::before {content: \"\";position: absolute;border-left: 1px solid gray;box-sizing: border-box;top: 0;bottom: 0;left: 50%;z-index: 0;}#sk-container-id-2 div.sk-serial {display: flex;flex-direction: column;align-items: center;background-color: white;padding-right: 0.2em;padding-left: 0.2em;position: relative;}#sk-container-id-2 div.sk-item {position: relative;z-index: 1;}#sk-container-id-2 div.sk-parallel {display: flex;align-items: stretch;justify-content: center;background-color: white;position: relative;}#sk-container-id-2 div.sk-item::before, #sk-container-id-2 div.sk-parallel-item::before {content: \"\";position: absolute;border-left: 1px solid gray;box-sizing: border-box;top: 0;bottom: 0;left: 50%;z-index: -1;}#sk-container-id-2 div.sk-parallel-item {display: flex;flex-direction: column;z-index: 1;position: relative;background-color: white;}#sk-container-id-2 div.sk-parallel-item:first-child::after {align-self: flex-end;width: 50%;}#sk-container-id-2 div.sk-parallel-item:last-child::after {align-self: flex-start;width: 50%;}#sk-container-id-2 div.sk-parallel-item:only-child::after {width: 0;}#sk-container-id-2 div.sk-dashed-wrapped {border: 1px dashed gray;margin: 0 0.4em 0.5em 0.4em;box-sizing: border-box;padding-bottom: 0.4em;background-color: white;}#sk-container-id-2 div.sk-label label {font-family: monospace;font-weight: bold;display: inline-block;line-height: 1.2em;}#sk-container-id-2 div.sk-label-container {text-align: center;}#sk-container-id-2 div.sk-container {/* jupyter's `normalize.less` sets `[hidden] { display: none; }` but bootstrap.min.css set `[hidden] { display: none !important; }` so we also need the `!important` here to be able to override the default hidden behavior on the sphinx rendered scikit-learn.org. See: https://github.com/scikit-learn/scikit-learn/issues/21755 */display: inline-block !important;position: relative;}#sk-container-id-2 div.sk-text-repr-fallback {display: none;}</style><div id=\"sk-container-id-2\" class=\"sk-top-container\"><div class=\"sk-text-repr-fallback\"><pre>DecisionTreeClassifier()</pre><b>In a Jupyter environment, please rerun this cell to show the HTML representation or trust the notebook. <br />On GitHub, the HTML representation is unable to render, please try loading this page with nbviewer.org.</b></div><div class=\"sk-container\" hidden><div class=\"sk-item\"><div class=\"sk-estimator sk-toggleable\"><input class=\"sk-toggleable__control sk-hidden--visually\" id=\"sk-estimator-id-2\" type=\"checkbox\" checked><label for=\"sk-estimator-id-2\" class=\"sk-toggleable__label sk-toggleable__label-arrow\">DecisionTreeClassifier</label><div class=\"sk-toggleable__content\"><pre>DecisionTreeClassifier()</pre></div></div></div></div></div>"
      ],
      "text/plain": [
       "DecisionTreeClassifier()"
      ]
     },
     "execution_count": 187,
     "metadata": {},
     "output_type": "execute_result"
    }
   ],
   "source": [
    "#\n",
    "tree.fit(X_train, y_train)"
   ]
  },
  {
   "cell_type": "code",
   "execution_count": 189,
   "id": "b4af1152",
   "metadata": {},
   "outputs": [
    {
     "data": {
      "text/plain": [
       "0.9806666666666667"
      ]
     },
     "execution_count": 189,
     "metadata": {},
     "output_type": "execute_result"
    }
   ],
   "source": [
    "#\n",
    "accuracy_score(tree.predict(X_test), y_test)"
   ]
  },
  {
   "cell_type": "code",
   "execution_count": 190,
   "id": "2948b0ee",
   "metadata": {},
   "outputs": [
    {
     "data": {
      "text/plain": [
       "array([[2240,   22],\n",
       "       [  36,  702]], dtype=int64)"
      ]
     },
     "execution_count": 190,
     "metadata": {},
     "output_type": "execute_result"
    }
   ],
   "source": [
    "#\n",
    "confusion_matrix(tree.predict(X_test), y_test)"
   ]
  },
  {
   "cell_type": "code",
   "execution_count": 192,
   "id": "ebfe254d",
   "metadata": {},
   "outputs": [
    {
     "data": {
      "text/plain": [
       "array([0.96666667, 0.931     , 0.93433333, 0.95733333, 0.95165055])"
      ]
     },
     "execution_count": 192,
     "metadata": {},
     "output_type": "execute_result"
    }
   ],
   "source": [
    "#Validação cruzada\n",
    "from sklearn.model_selection import cross_val_score\n",
    "scores = cross_val_score(knn, x, y, cv=5, scoring=\"accuracy\")\n",
    "scores"
   ]
  },
  {
   "cell_type": "code",
   "execution_count": 193,
   "id": "aea5b04e",
   "metadata": {},
   "outputs": [],
   "source": [
    "#Desempenho média do modelo na validação cruzada"
   ]
  },
  {
   "cell_type": "code",
   "execution_count": 194,
   "id": "ddccd182",
   "metadata": {},
   "outputs": [
    {
     "data": {
      "text/plain": [
       "0.9481967767033457"
      ]
     },
     "execution_count": 194,
     "metadata": {},
     "output_type": "execute_result"
    }
   ],
   "source": [
    "scores.mean()"
   ]
  },
  {
   "cell_type": "code",
   "execution_count": 195,
   "id": "9439a7fe",
   "metadata": {},
   "outputs": [],
   "source": [
    "#Desvio padrão"
   ]
  },
  {
   "cell_type": "code",
   "execution_count": 196,
   "id": "d4e457c5",
   "metadata": {},
   "outputs": [
    {
     "data": {
      "text/plain": [
       "0.013597545694866528"
      ]
     },
     "execution_count": 196,
     "metadata": {},
     "output_type": "execute_result"
    }
   ],
   "source": [
    "scores.std()"
   ]
  },
  {
   "cell_type": "code",
   "execution_count": 197,
   "id": "4fac8d20",
   "metadata": {},
   "outputs": [],
   "source": [
    "#Arvore de decisão"
   ]
  },
  {
   "cell_type": "code",
   "execution_count": 201,
   "id": "eecdfbe1",
   "metadata": {},
   "outputs": [
    {
     "data": {
      "text/plain": [
       "array([0.97833333, 0.95933333, 0.972     , 0.99066667, 0.97399133])"
      ]
     },
     "execution_count": 201,
     "metadata": {},
     "output_type": "execute_result"
    }
   ],
   "source": [
    "scores_tree = cross_val_score(tree, X, y, cv=5, scoring=\"accuracy\")\n",
    "scores_tree"
   ]
  },
  {
   "cell_type": "code",
   "execution_count": 202,
   "id": "c6be7a8b",
   "metadata": {},
   "outputs": [],
   "source": [
    "#Média em relação dos scores"
   ]
  },
  {
   "cell_type": "code",
   "execution_count": 203,
   "id": "f093d7bf",
   "metadata": {},
   "outputs": [
    {
     "data": {
      "text/plain": [
       "0.9748649327553629"
      ]
     },
     "execution_count": 203,
     "metadata": {},
     "output_type": "execute_result"
    }
   ],
   "source": [
    "scores_tree.mean()"
   ]
  },
  {
   "cell_type": "code",
   "execution_count": 204,
   "id": "9651e1bf",
   "metadata": {},
   "outputs": [],
   "source": [
    "#Desvio padrão"
   ]
  },
  {
   "cell_type": "code",
   "execution_count": 205,
   "id": "84141331",
   "metadata": {},
   "outputs": [
    {
     "data": {
      "text/plain": [
       "0.01011855917086399"
      ]
     },
     "execution_count": 205,
     "metadata": {},
     "output_type": "execute_result"
    }
   ],
   "source": [
    "scores_tree.std()"
   ]
  },
  {
   "cell_type": "code",
   "execution_count": 206,
   "id": "2c2faea7",
   "metadata": {},
   "outputs": [],
   "source": [
    "#Exibir os 5 mais importantes atributos"
   ]
  },
  {
   "cell_type": "code",
   "execution_count": 207,
   "id": "b1939967",
   "metadata": {},
   "outputs": [
    {
     "data": {
      "text/plain": [
       "array([5.02360701e-01, 1.43996636e-01, 1.06407899e-01, 8.73169079e-02,\n",
       "       1.41900477e-01, 1.48491042e-03, 3.73929898e-05, 1.21015305e-03,\n",
       "       9.43350772e-04, 1.12660826e-03, 4.70267127e-04, 8.32878301e-04,\n",
       "       4.45976276e-04, 1.78402789e-03, 3.28797531e-03, 2.19791340e-03,\n",
       "       2.50393440e-03, 1.69198987e-03])"
      ]
     },
     "execution_count": 207,
     "metadata": {},
     "output_type": "execute_result"
    }
   ],
   "source": [
    "tree.feature_importances_"
   ]
  },
  {
   "cell_type": "code",
   "execution_count": 208,
   "id": "febb0035",
   "metadata": {},
   "outputs": [],
   "source": [
    "#Colocando as colunas como variáveis "
   ]
  },
  {
   "cell_type": "code",
   "execution_count": 212,
   "id": "63a5d952",
   "metadata": {},
   "outputs": [
    {
     "data": {
      "text/plain": [
       "<Axes: >"
      ]
     },
     "execution_count": 212,
     "metadata": {},
     "output_type": "execute_result"
    },
    {
     "data": {
      "image/png": "[encoded data removed]",
      "text/plain": [
       "<Figure size 640x480 with 1 Axes>"
      ]
     },
     "metadata": {},
     "output_type": "display_data"
    }
   ],
   "source": [
    "pd.DataFrame(tree.feature_importances_, index = X.columns)[:5].plot(kind=\"bar\")"
   ]
  },
  {
   "cell_type": "code",
   "execution_count": 213,
   "id": "1dd0bda5",
   "metadata": {},
   "outputs": [],
   "source": [
    "#\n",
    "import pickle"
   ]
  },
  {
   "cell_type": "code",
   "execution_count": 214,
   "id": "25b44b63",
   "metadata": {},
   "outputs": [
    {
     "data": {
      "text/html": [
       "<style>#sk-container-id-3 {color: black;background-color: white;}#sk-container-id-3 pre{padding: 0;}#sk-container-id-3 div.sk-toggleable {background-color: white;}#sk-container-id-3 label.sk-toggleable__label {cursor: pointer;display: block;width: 100%;margin-bottom: 0;padding: 0.3em;box-sizing: border-box;text-align: center;}#sk-container-id-3 label.sk-toggleable__label-arrow:before {content: \"▸\";float: left;margin-right: 0.25em;color: #696969;}#sk-container-id-3 label.sk-toggleable__label-arrow:hover:before {color: black;}#sk-container-id-3 div.sk-estimator:hover label.sk-toggleable__label-arrow:before {color: black;}#sk-container-id-3 div.sk-toggleable__content {max-height: 0;max-width: 0;overflow: hidden;text-align: left;background-color: #f0f8ff;}#sk-container-id-3 div.sk-toggleable__content pre {margin: 0.2em;color: black;border-radius: 0.25em;background-color: #f0f8ff;}#sk-container-id-3 input.sk-toggleable__control:checked~div.sk-toggleable__content {max-height: 200px;max-width: 100%;overflow: auto;}#sk-container-id-3 input.sk-toggleable__control:checked~label.sk-toggleable__label-arrow:before {content: \"▾\";}#sk-container-id-3 div.sk-estimator input.sk-toggleable__control:checked~label.sk-toggleable__label {background-color: #d4ebff;}#sk-container-id-3 div.sk-label input.sk-toggleable__control:checked~label.sk-toggleable__label {background-color: #d4ebff;}#sk-container-id-3 input.sk-hidden--visually {border: 0;clip: rect(1px 1px 1px 1px);clip: rect(1px, 1px, 1px, 1px);height: 1px;margin: -1px;overflow: hidden;padding: 0;position: absolute;width: 1px;}#sk-container-id-3 div.sk-estimator {font-family: monospace;background-color: #f0f8ff;border: 1px dotted black;border-radius: 0.25em;box-sizing: border-box;margin-bottom: 0.5em;}#sk-container-id-3 div.sk-estimator:hover {background-color: #d4ebff;}#sk-container-id-3 div.sk-parallel-item::after {content: \"\";width: 100%;border-bottom: 1px solid gray;flex-grow: 1;}#sk-container-id-3 div.sk-label:hover label.sk-toggleable__label {background-color: #d4ebff;}#sk-container-id-3 div.sk-serial::before {content: \"\";position: absolute;border-left: 1px solid gray;box-sizing: border-box;top: 0;bottom: 0;left: 50%;z-index: 0;}#sk-container-id-3 div.sk-serial {display: flex;flex-direction: column;align-items: center;background-color: white;padding-right: 0.2em;padding-left: 0.2em;position: relative;}#sk-container-id-3 div.sk-item {position: relative;z-index: 1;}#sk-container-id-3 div.sk-parallel {display: flex;align-items: stretch;justify-content: center;background-color: white;position: relative;}#sk-container-id-3 div.sk-item::before, #sk-container-id-3 div.sk-parallel-item::before {content: \"\";position: absolute;border-left: 1px solid gray;box-sizing: border-box;top: 0;bottom: 0;left: 50%;z-index: -1;}#sk-container-id-3 div.sk-parallel-item {display: flex;flex-direction: column;z-index: 1;position: relative;background-color: white;}#sk-container-id-3 div.sk-parallel-item:first-child::after {align-self: flex-end;width: 50%;}#sk-container-id-3 div.sk-parallel-item:last-child::after {align-self: flex-start;width: 50%;}#sk-container-id-3 div.sk-parallel-item:only-child::after {width: 0;}#sk-container-id-3 div.sk-dashed-wrapped {border: 1px dashed gray;margin: 0 0.4em 0.5em 0.4em;box-sizing: border-box;padding-bottom: 0.4em;background-color: white;}#sk-container-id-3 div.sk-label label {font-family: monospace;font-weight: bold;display: inline-block;line-height: 1.2em;}#sk-container-id-3 div.sk-label-container {text-align: center;}#sk-container-id-3 div.sk-container {/* jupyter's `normalize.less` sets `[hidden] { display: none; }` but bootstrap.min.css set `[hidden] { display: none !important; }` so we also need the `!important` here to be able to override the default hidden behavior on the sphinx rendered scikit-learn.org. See: https://github.com/scikit-learn/scikit-learn/issues/21755 */display: inline-block !important;position: relative;}#sk-container-id-3 div.sk-text-repr-fallback {display: none;}</style><div id=\"sk-container-id-3\" class=\"sk-top-container\"><div class=\"sk-text-repr-fallback\"><pre>DecisionTreeClassifier()</pre><b>In a Jupyter environment, please rerun this cell to show the HTML representation or trust the notebook. <br />On GitHub, the HTML representation is unable to render, please try loading this page with nbviewer.org.</b></div><div class=\"sk-container\" hidden><div class=\"sk-item\"><div class=\"sk-estimator sk-toggleable\"><input class=\"sk-toggleable__control sk-hidden--visually\" id=\"sk-estimator-id-3\" type=\"checkbox\" checked><label for=\"sk-estimator-id-3\" class=\"sk-toggleable__label sk-toggleable__label-arrow\">DecisionTreeClassifier</label><div class=\"sk-toggleable__content\"><pre>DecisionTreeClassifier()</pre></div></div></div></div></div>"
      ],
      "text/plain": [
       "DecisionTreeClassifier()"
      ]
     },
     "execution_count": 214,
     "metadata": {},
     "output_type": "execute_result"
    }
   ],
   "source": [
    "tree.fit(X, y)"
   ]
  },
  {
   "cell_type": "code",
   "execution_count": 217,
   "id": "3b980c6b",
   "metadata": {},
   "outputs": [],
   "source": [
    "pickle.dump(tree, open(\"modelo_hr.pickle\",\"wb\"))"
   ]
  },
  {
   "cell_type": "code",
   "execution_count": 218,
   "id": "39f916d7",
   "metadata": {},
   "outputs": [],
   "source": [
    "#Carregar o modelo a partir do que foi salvo"
   ]
  },
  {
   "cell_type": "code",
   "execution_count": 219,
   "id": "b5036ec2",
   "metadata": {},
   "outputs": [],
   "source": [
    "tree_salva = pickle.load(open(\"modelo_hr.pickle\",\"rb\"))"
   ]
  },
  {
   "cell_type": "code",
   "execution_count": 220,
   "id": "162c0f6b",
   "metadata": {},
   "outputs": [
    {
     "data": {
      "text/plain": [
       "array([1., 0., 0., ..., 0., 0., 0.])"
      ]
     },
     "execution_count": 220,
     "metadata": {},
     "output_type": "execute_result"
    }
   ],
   "source": [
    "tree_salva.predict(X_test)"
   ]
  },
  {
   "cell_type": "code",
   "execution_count": null,
   "id": "f1421c98",
   "metadata": {},
   "outputs": [],
   "source": []
  }
 ],
 "metadata": {
  "kernelspec": {
   "display_name": "Python 3 (ipykernel)",
   "language": "python",
   "name": "python3"
  },
  "language_info": {
   "codemirror_mode": {
    "name": "ipython",
    "version": 3
   },
   "file_extension": ".py",
   "mimetype": "text/x-python",
   "name": "python",
   "nbconvert_exporter": "python",
   "pygments_lexer": "ipython3",
   "version": "3.10.6"
  }
 },
 "nbformat": 4,
 "nbformat_minor": 5
}
